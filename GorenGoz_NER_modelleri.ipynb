{
  "nbformat": 4,
  "nbformat_minor": 0,
  "metadata": {
    "colab": {
      "provenance": [],
      "authorship_tag": "ABX9TyN9VhMlrPdQKgmKipOzRWWJ",
      "include_colab_link": true
    },
    "kernelspec": {
      "name": "python3",
      "display_name": "Python 3"
    },
    "language_info": {
      "name": "python"
    }
  },
  "cells": [
    {
      "cell_type": "markdown",
      "metadata": {
        "id": "view-in-github",
        "colab_type": "text"
      },
      "source": [
        "<a href=\"https://colab.research.google.com/github/esmanp/gorengoz2024/blob/main/GorenGoz_NER_modelleri.ipynb\" target=\"_parent\"><img src=\"https://colab.research.google.com/assets/colab-badge.svg\" alt=\"Open In Colab\"/></a>"
      ]
    },
    {
      "cell_type": "code",
      "source": [
        "!pip install -q transformers"
      ],
      "metadata": {
        "id": "agz-uN8hzYYt"
      },
      "execution_count": null,
      "outputs": []
    },
    {
      "cell_type": "code",
      "source": [
        "# Use a pipeline as a high-level helper\n",
        "from transformers import pipeline\n",
        "\n",
        "pipe = pipeline(\"token-classification\", model=\"Gorengoz/bert-based-Turkish-NER\")"
      ],
      "metadata": {
        "colab": {
          "base_uri": "https://localhost:8080/",
          "height": 195,
          "referenced_widgets": [
            "b012f219f46f4fe988a6ad1ed4de3547",
            "c00692a8099c4314be224e18450b1f99",
            "be01f65092bf4d40a3d4ca403241e10a",
            "6b5e53fcb3bd4e9bb4e97dac69905a06",
            "90fe1e64b9f745c39c54e116e91d3307",
            "4ba632d60b774091852f5906157057cf",
            "804d76d3e76a4f57b3a224076a54ac37",
            "46f2cd408b7f4303afe9e81bd696ff32",
            "7ac5155128f04c75bb8d165dd436c0ed",
            "0247ce4fbbb24d95903b0ce6afd70b56",
            "812fb61668f5411a8d9572d47db4a02e",
            "90ba9b4e96034478ac8ba54c8f05c34a",
            "c730b76e5d4f48dba9ebfbd366062fe3",
            "57939bfa66fc4292988acd5862216760",
            "61fc8a3b0be94f54a470b432b5936f6d",
            "70e47373f7344283998875ab4aa45102",
            "6832a06450f747e2aae4fafa0a9fc327",
            "c44cee3644d344d5a3ed6a5fc14d0158",
            "681b4bd2f727469e83ac16407bb1782f",
            "3d8e112f819a4511bf9cae99b313222a",
            "0fce14d6c97d4b51b76f5e7902ec1713",
            "85596c5c126e49b188c85bf418aea87b",
            "f27bd67141a044cb9c3372bef85c25f2",
            "7e1514ec77694acc9ee34a4da4c1a99d",
            "3e551e5aa13646869e079427e3f08ffc",
            "089559c7bdc54eb8bdd09c89962ae06f",
            "9029b76f08fc48c7aead9067211c751b",
            "546ca74cef96408b8caf0140beffb00c",
            "3e85d710d960416b9e4fbcd93f55c1b6",
            "d46cdf411fa0409caa74f550d3e32e0e",
            "fb21388280a14aac9318839bce38cf09",
            "88af9fd9c24f4d0a90f3ec2769fb2285",
            "fd3b54dd96de4fc2b797da5859ee9b3e",
            "b4fb7ba3d5154d7fb8fa9550f7dc99a9",
            "e97bd360387342e69590f5e0f1a26fed",
            "221889775b9448dc9f5a87308c6f6118",
            "1cd1b47f615d4848ae248bb18629c370",
            "7880873122a74ed7a623e4b84ac21f52",
            "ed8f59fa069448bc931d430958a1d553",
            "f34c6e98f84a402d8927c2ef85014bd5",
            "5b830a1429f24a63a1d0492245ca3a02",
            "f0f4f74ac3ee48098433fb7f2cfe36af",
            "04ecbcbcf85440c0b276b055e2610113",
            "b8d949be525e496a9b156cb02c474583",
            "24b7a410f3644f0db74c80cb694173f0",
            "a932e2d0d2b043278aaf380b9630ba4d",
            "5d32a69d87a84b41896e415bb6bf7ee1",
            "fec5d11b4791439aa5b57a116bb29761",
            "30ebb9a05e8e40c8accf69e34badc509",
            "3fbc3e828f1649b397636c45c8fdf844",
            "f199923418634bdebad5b57e06d4fca9",
            "bb52b893fe1a4b79ba0224c0896eab37",
            "abb6ec638c7745e0b6997fd831f1074a",
            "e78453e220b14798b6d9da1a096ca3e4",
            "72a4388f9ad5449caf2002656408697e"
          ]
        },
        "id": "IafuVPdl5Qpg",
        "outputId": "c84f0a92-e15c-41ea-8b08-7370004fc991"
      },
      "execution_count": null,
      "outputs": [
        {
          "output_type": "display_data",
          "data": {
            "text/plain": [
              "config.json:   0%|          | 0.00/990 [00:00<?, ?B/s]"
            ],
            "application/vnd.jupyter.widget-view+json": {
              "version_major": 2,
              "version_minor": 0,
              "model_id": "b012f219f46f4fe988a6ad1ed4de3547"
            }
          },
          "metadata": {}
        },
        {
          "output_type": "display_data",
          "data": {
            "text/plain": [
              "model.safetensors:   0%|          | 0.00/440M [00:00<?, ?B/s]"
            ],
            "application/vnd.jupyter.widget-view+json": {
              "version_major": 2,
              "version_minor": 0,
              "model_id": "90ba9b4e96034478ac8ba54c8f05c34a"
            }
          },
          "metadata": {}
        },
        {
          "output_type": "display_data",
          "data": {
            "text/plain": [
              "tokenizer_config.json:   0%|          | 0.00/1.25k [00:00<?, ?B/s]"
            ],
            "application/vnd.jupyter.widget-view+json": {
              "version_major": 2,
              "version_minor": 0,
              "model_id": "f27bd67141a044cb9c3372bef85c25f2"
            }
          },
          "metadata": {}
        },
        {
          "output_type": "display_data",
          "data": {
            "text/plain": [
              "vocab.txt:   0%|          | 0.00/251k [00:00<?, ?B/s]"
            ],
            "application/vnd.jupyter.widget-view+json": {
              "version_major": 2,
              "version_minor": 0,
              "model_id": "b4fb7ba3d5154d7fb8fa9550f7dc99a9"
            }
          },
          "metadata": {}
        },
        {
          "output_type": "display_data",
          "data": {
            "text/plain": [
              "special_tokens_map.json:   0%|          | 0.00/125 [00:00<?, ?B/s]"
            ],
            "application/vnd.jupyter.widget-view+json": {
              "version_major": 2,
              "version_minor": 0,
              "model_id": "24b7a410f3644f0db74c80cb694173f0"
            }
          },
          "metadata": {}
        },
        {
          "output_type": "stream",
          "name": "stderr",
          "text": [
            "Hardware accelerator e.g. GPU is available in the environment, but no `device` argument is passed to the `Pipeline` object. Model will be on CPU.\n"
          ]
        }
      ]
    },
    {
      "cell_type": "code",
      "source": [
        "pipe(\"Fiber 100mb SuperOnline kullanıcısıyım yaklaşık 2 haftadır Twitch Kick_Turkey gibi canlı yayın platformlarında 360p yayın izlerken donmalar yaşıyoruz. Başka hiç bir operatörler bu sorunu yaşamazken ben parasını verip alamadığım hizmeti neden ödeyeyim ? Turkcell\",aggregation_strategy = \"simple\")"
      ],
      "metadata": {
        "colab": {
          "base_uri": "https://localhost:8080/"
        },
        "id": "FenqRRsm5TfA",
        "outputId": "1e40b28e-b305-40f6-96bb-daebd968751e"
      },
      "execution_count": null,
      "outputs": [
        {
          "output_type": "execute_result",
          "data": {
            "text/plain": [
              "[{'entity_group': 'ORGANIZATION',\n",
              "  'score': 0.77373785,\n",
              "  'word': 'SuperOnline',\n",
              "  'start': 12,\n",
              "  'end': 23},\n",
              " {'entity_group': 'ORGANIZATION',\n",
              "  'score': 0.6571868,\n",
              "  'word': 'Twit',\n",
              "  'start': 59,\n",
              "  'end': 63},\n",
              " {'entity_group': 'ORGANIZATION',\n",
              "  'score': 0.99595636,\n",
              "  'word': 'Turkcell',\n",
              "  'start': 253,\n",
              "  'end': 261}]"
            ]
          },
          "metadata": {},
          "execution_count": 13
        }
      ]
    },
    {
      "cell_type": "code",
      "source": [
        "# Use a pipeline as a high-level helper\n",
        "from transformers import pipeline\n",
        "\n",
        "pipe2 = pipeline(\"token-classification\", model=\"Gorengoz/bert-based-Turkish-NER-wikiann\")"
      ],
      "metadata": {
        "colab": {
          "base_uri": "https://localhost:8080/",
          "height": 195,
          "referenced_widgets": [
            "bbdc49ebd2084af5885637af86f74f4c",
            "095e0d088b4f4b60812c8d72f89203f5",
            "733a24ff1051427f86624bd694188996",
            "d9601bbc08964d54b170e5b7ba61a608",
            "bcc518732342403ea8aaa9408bdacb6b",
            "171307933b27406b8055448d174ddb32",
            "6b07a039003d42e2a8254149b554003e",
            "d35c1a1868e64957b5a0a12b2104456d",
            "4a1e7939c7974598bcdeb9f2d3c0af1d",
            "e60a2228a4ba4c80adc4a78de9a0f69d",
            "a7fe993f298f44d0ba44e8d238208e6c",
            "63079db38b554ff190c95a8f530a1526",
            "b1fc80cbd6bf440ea62b1f0361450f9e",
            "2105a334a72745daa5909abc30249022",
            "1e9fc375efcc41a6ae9c7d057f49ab06",
            "28c82726028148179303e5d0c578b5d6",
            "f5ad9c95e02746a7b92ed1841939a501",
            "e38dc093952b47d2a2dd854cc1f40d88",
            "0052af639f5447c58e971df8aecc26d9",
            "158880349dd0416b92689de4085c8eef",
            "1c75543a07ec4db9b5d83e4a35feca4f",
            "b5a8867905814dc190c1005b1adff990",
            "fbe7092384754ba781412fea999b2f32",
            "b64f2a4ed64843e8bd3335c00768af2c",
            "3d1706ef982c4b8ba7d766b3a326413b",
            "acae4aa1a74c42628a31a54b106253a4",
            "d7f7d11387504b5388637895e18ffe15",
            "24c1c89dd8294a70a9d598a0435bfa97",
            "271551741fa8456eb55a03912785ae0b",
            "48b2fc72ccd94067b088f84db69c964b",
            "95afaf0a2fd14bd18dd31289623e3332",
            "2b0e430c246441d49fad10528005d10d",
            "45e88212165344fdafba953ccdb6b877",
            "1f35fc0531d74858aa45eda47c63dc3e",
            "c5658a4850274d5fbc5c925116631ae8",
            "3d76bc6a002f4abe9e588e1e600721fb",
            "0129550e8e6b4d4cb85a3b6738aad2e2",
            "6e61624d184846908953983f4172ada8",
            "0b0a5032a26c4d7ebf79c3e6a7eac685",
            "4af5722070674c0481383696da1782ae",
            "9f3d14b5e3f240a6bbf597fd3bc369ba",
            "8afff821d4bc4a538bad6ecfb62a858b",
            "395194c5b34348258914dd9035d8e990",
            "e57795ae738242638f30284683cabe4a",
            "0f87ef0a2769402e872350144efc9309",
            "753c94d0b93c4d0899745d374e41fa4b",
            "a46da00d80464a71a92329c0f698e05a",
            "75c0fc6e3dff43c785ed71dd0fe11a49",
            "1f4a5e50f70644d4834a195ae476ffa0",
            "6f24852b42684f2b9cfc964b4ee0564a",
            "3f174bb2d95441c196570b7ea42e6124",
            "59697ecc5b284de9b9f5aba40a1c14a1",
            "be3c1842b5e94f0ba65223742968827a",
            "f9736ed7ca724012b81009fa2cd92b98",
            "e39ccbd00d634568829a47e584b94b2f"
          ]
        },
        "id": "WPVImrUh5dzz",
        "outputId": "29b45455-4be9-4344-ee43-1e7231f305d6"
      },
      "execution_count": null,
      "outputs": [
        {
          "output_type": "display_data",
          "data": {
            "text/plain": [
              "config.json:   0%|          | 0.00/922 [00:00<?, ?B/s]"
            ],
            "application/vnd.jupyter.widget-view+json": {
              "version_major": 2,
              "version_minor": 0,
              "model_id": "bbdc49ebd2084af5885637af86f74f4c"
            }
          },
          "metadata": {}
        },
        {
          "output_type": "display_data",
          "data": {
            "text/plain": [
              "model.safetensors:   0%|          | 0.00/440M [00:00<?, ?B/s]"
            ],
            "application/vnd.jupyter.widget-view+json": {
              "version_major": 2,
              "version_minor": 0,
              "model_id": "63079db38b554ff190c95a8f530a1526"
            }
          },
          "metadata": {}
        },
        {
          "output_type": "display_data",
          "data": {
            "text/plain": [
              "tokenizer_config.json:   0%|          | 0.00/1.25k [00:00<?, ?B/s]"
            ],
            "application/vnd.jupyter.widget-view+json": {
              "version_major": 2,
              "version_minor": 0,
              "model_id": "fbe7092384754ba781412fea999b2f32"
            }
          },
          "metadata": {}
        },
        {
          "output_type": "display_data",
          "data": {
            "text/plain": [
              "vocab.txt:   0%|          | 0.00/251k [00:00<?, ?B/s]"
            ],
            "application/vnd.jupyter.widget-view+json": {
              "version_major": 2,
              "version_minor": 0,
              "model_id": "1f35fc0531d74858aa45eda47c63dc3e"
            }
          },
          "metadata": {}
        },
        {
          "output_type": "display_data",
          "data": {
            "text/plain": [
              "special_tokens_map.json:   0%|          | 0.00/125 [00:00<?, ?B/s]"
            ],
            "application/vnd.jupyter.widget-view+json": {
              "version_major": 2,
              "version_minor": 0,
              "model_id": "0f87ef0a2769402e872350144efc9309"
            }
          },
          "metadata": {}
        },
        {
          "output_type": "stream",
          "name": "stderr",
          "text": [
            "Hardware accelerator e.g. GPU is available in the environment, but no `device` argument is passed to the `Pipeline` object. Model will be on CPU.\n"
          ]
        }
      ]
    },
    {
      "cell_type": "code",
      "source": [
        "pipe2(\" Entity X'in müşteri hizmetleri hızlı ve etkili, Entity Y'nin ürün kalitesi çok kötü.\",aggregation_strategy = \"simple\")"
      ],
      "metadata": {
        "colab": {
          "base_uri": "https://localhost:8080/"
        },
        "id": "VQbTtfcl6eP7",
        "outputId": "8d75199a-4a1d-4452-ef2d-46e0b85c1075"
      },
      "execution_count": null,
      "outputs": [
        {
          "output_type": "execute_result",
          "data": {
            "text/plain": [
              "[{'entity_group': 'ORG',\n",
              "  'score': 0.91663206,\n",
              "  'word': 'Entity X',\n",
              "  'start': 1,\n",
              "  'end': 9},\n",
              " {'entity_group': 'ORG',\n",
              "  'score': 0.9230066,\n",
              "  'word': 'Entity Y',\n",
              "  'start': 49,\n",
              "  'end': 57}]"
            ]
          },
          "metadata": {},
          "execution_count": 16
        }
      ]
    }
  ]
}